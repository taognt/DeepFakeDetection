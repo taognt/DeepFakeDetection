{
 "cells": [
  {
   "cell_type": "code",
   "execution_count": 8,
   "metadata": {},
   "outputs": [],
   "source": [
    "import numpy as np\n"
   ]
  },
  {
   "cell_type": "code",
   "execution_count": 17,
   "metadata": {},
   "outputs": [
    {
     "name": "stdout",
     "output_type": "stream",
     "text": [
      "False\n",
      "False\n"
     ]
    }
   ],
   "source": [
    "import torch\n",
    "print(torch.backends.mps.is_available())\n",
    "print(torch.cuda.is_available())\n"
   ]
  },
  {
   "cell_type": "code",
   "execution_count": 3,
   "metadata": {},
   "outputs": [
    {
     "name": "stdout",
     "output_type": "stream",
     "text": [
      "^C\n"
     ]
    },
    {
     "name": "stdout",
     "output_type": "stream",
     "text": [
      "Paths verified successfully!\n",
      "Epoch 1/10\n",
      "----------\n",
      "epoch train loss: 0.0160 Acc: 0.4820\n",
      "epoch val loss: 0.0364 Acc: 0.5263\n",
      "Epoch 2/10\n",
      "----------\n",
      "epoch train loss: 0.0113 Acc: 0.6577\n",
      "epoch val loss: 0.0370 Acc: 0.4211\n",
      "Epoch 3/10\n",
      "----------\n",
      "epoch train loss: 0.0112 Acc: 0.6216\n",
      "epoch val loss: 0.0374 Acc: 0.4211\n",
      "Epoch 4/10\n",
      "----------\n",
      "epoch train loss: 0.0114 Acc: 0.6892\n",
      "epoch val loss: 0.0372 Acc: 0.4211\n",
      "Epoch 5/10\n",
      "----------\n",
      "iteration 20 train loss: 0.0087 Acc: 0.3438\n",
      "epoch train loss: 0.0105 Acc: 0.6937\n",
      "epoch val loss: 0.0372 Acc: 0.4737\n",
      "Epoch 6/10\n",
      "----------\n",
      "epoch train loss: 0.0106 Acc: 0.6757\n",
      "epoch val loss: 0.0368 Acc: 0.5263\n",
      "Epoch 7/10\n",
      "----------\n",
      "epoch train loss: 0.0099 Acc: 0.6982\n",
      "epoch val loss: 0.0365 Acc: 0.5263\n",
      "Epoch 8/10\n",
      "----------\n",
      "epoch train loss: 0.0104 Acc: 0.7027\n",
      "epoch val loss: 0.0361 Acc: 0.5263\n",
      "Epoch 9/10\n",
      "----------\n",
      "epoch train loss: 0.0094 Acc: 0.7523\n",
      "epoch val loss: 0.0357 Acc: 0.5263\n",
      "Epoch 10/10\n",
      "----------\n",
      "iteration 40 train loss: 0.0078 Acc: 0.3438\n",
      "epoch train loss: 0.0095 Acc: 0.7387\n",
      "epoch val loss: 0.0351 Acc: 0.6316\n",
      "Best val Acc: 0.6316\n"
     ]
    },
    {
     "name": "stderr",
     "output_type": "stream",
     "text": [
      "\n",
      "  0%|          | 0/10 [00:00<?, ?it/s]c:\\Users\\isabe\\Documents\\Ensta Paris\\Cours\\Projet IA\\Test_code\\.venv-projet\\Lib\\site-packages\\torch\\nn\\functional.py:1538: UserWarning: dropout2d: Received a 2-D input to dropout2d, which is deprecated and will result in an error in a future release. To retain the behavior and silence this warning, please use dropout instead. Note that dropout2d exists to provide channel-wise dropout on inputs with 2 spatial dimensions, a channel dimension, and an optional batch dimension (i.e. 3D or 4D inputs).\n",
      "  warnings.warn(warn_msg)\n",
      "\n",
      " 10%|█         | 1/10 [03:23<30:33, 203.73s/it]\n",
      " 20%|██        | 2/10 [06:35<26:11, 196.41s/it]\n",
      " 30%|███       | 3/10 [09:46<22:38, 194.05s/it]\n",
      " 40%|████      | 4/10 [12:57<19:16, 192.76s/it]\n",
      " 50%|█████     | 5/10 [16:08<16:00, 192.17s/it]\n",
      " 60%|██████    | 6/10 [19:18<12:46, 191.69s/it]\n",
      " 70%|███████   | 7/10 [26:32<13:32, 270.79s/it]\n",
      " 80%|████████  | 8/10 [29:46<08:12, 246.40s/it]\n",
      " 90%|█████████ | 9/10 [33:00<03:49, 229.98s/it]\n",
      "100%|██████████| 10/10 [36:11<00:00, 217.85s/it]\n",
      "100%|██████████| 10/10 [36:11<00:00, 217.13s/it]\n"
     ]
    }
   ],
   "source": [
    "!python MesoNet-Pytorch/train_Meso.py -n 'Mesonet' -tp \"data\\Train\" -vp \"data\\Test\" -bz 64 -e 10 -mn 'meso4.pkl' "
   ]
  },
  {
   "cell_type": "code",
   "execution_count": null,
   "metadata": {},
   "outputs": [],
   "source": [
    "!python MesoNet-Pytorch/test.py -bz 64 -tp \"data\\Test\" -mp './Mesonet/best.pkl'\n",
    "\n"
   ]
  }
 ],
 "metadata": {
  "kernelspec": {
   "display_name": ".venv-projet",
   "language": "python",
   "name": "python3"
  },
  "language_info": {
   "codemirror_mode": {
    "name": "ipython",
    "version": 3
   },
   "file_extension": ".py",
   "mimetype": "text/x-python",
   "name": "python",
   "nbconvert_exporter": "python",
   "pygments_lexer": "ipython3",
   "version": "3.11.9"
  }
 },
 "nbformat": 4,
 "nbformat_minor": 2
}
